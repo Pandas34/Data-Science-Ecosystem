{
 "cells": [
  {
   "cell_type": "markdown",
   "id": "95622fb9",
   "metadata": {},
   "source": [
    "# Data Science Tools and Ecosystem"
   ]
  },
  {
   "cell_type": "markdown",
   "id": "6a639af4",
   "metadata": {},
   "source": [
    "## In this notebook we summerise the the tools used for data science. It refers to a broad and interconnected set of concepts and resources that are essential for the field of data science."
   ]
  },
  {
   "cell_type": "markdown",
   "id": "75a2e91e",
   "metadata": {},
   "source": [
    "## Python, R Language, SQL, MongoDB"
   ]
  },
  {
   "cell_type": "markdown",
   "id": "5418499e",
   "metadata": {},
   "source": [
    "## Some of the commonly used libraries used by Data Scientists include: \n",
    "\n",
    "### 1. NumPy is a fundamental library for numerical computations in Python. It provides support for large, multi-dimensional arrays and matrices, along with a wide range of mathematical functions to operate on these arrays.\n",
    "### 2. Pandas is a powerful data manipulation and analysis library. It provides data structures like DataFrames and Series, which make it easy to clean, transform, and analyze structured data.\n",
    "### 3. Matplotlib is a popular data visualization library in Python. It offers a wide range of functions for creating static, animated, or interactive plots and charts.\n",
    "### 4. Seaborn is built on top of Matplotlib and is specifically designed for statistical data visualization."
   ]
  },
  {
   "cell_type": "markdown",
   "id": "ee2e89b1",
   "metadata": {},
   "source": [
    "## Data Science Tools \n",
    "\n",
    "### 1. Python: Python is the most popular programming language for data science. It offers a wide range of libraries and frameworks for data analysis, machine learning, and data visualization.\n",
    "\n",
    "### 2. R: R is another widely used programming language for statistical analysis and data visualization. It has a rich ecosystem of packages for data science tasks.\n",
    "\n",
    "### 3. Apache Hadoop: Hadoop is a framework for distributed storage and processing of large datasets. It's commonly used for big data applications."
   ]
  },
  {
   "cell_type": "markdown",
   "id": "321aefe6",
   "metadata": {},
   "source": [
    "## Arithmatic Expression "
   ]
  },
  {
   "cell_type": "code",
   "execution_count": 1,
   "id": "b97207de",
   "metadata": {},
   "outputs": [],
   "source": [
    "A1= 6 \n",
    "A2= 4"
   ]
  },
  {
   "cell_type": "code",
   "execution_count": 2,
   "id": "da2b6984",
   "metadata": {},
   "outputs": [
    {
     "data": {
      "text/plain": [
       "10"
      ]
     },
     "execution_count": 2,
     "metadata": {},
     "output_type": "execute_result"
    }
   ],
   "source": [
    "A1 + A2"
   ]
  },
  {
   "cell_type": "code",
   "execution_count": 3,
   "id": "3379753e",
   "metadata": {},
   "outputs": [
    {
     "data": {
      "text/plain": [
       "2"
      ]
     },
     "execution_count": 3,
     "metadata": {},
     "output_type": "execute_result"
    }
   ],
   "source": [
    "A1-A2"
   ]
  },
  {
   "cell_type": "code",
   "execution_count": 4,
   "id": "0375301a",
   "metadata": {},
   "outputs": [
    {
     "data": {
      "text/plain": [
       "24"
      ]
     },
     "execution_count": 4,
     "metadata": {},
     "output_type": "execute_result"
    }
   ],
   "source": [
    "A1*A2"
   ]
  },
  {
   "cell_type": "code",
   "execution_count": 5,
   "id": "c57b4fb6",
   "metadata": {},
   "outputs": [
    {
     "data": {
      "text/plain": [
       "1.5"
      ]
     },
     "execution_count": 5,
     "metadata": {},
     "output_type": "execute_result"
    }
   ],
   "source": [
    "A1/A2"
   ]
  },
  {
   "cell_type": "markdown",
   "id": "960b7c43",
   "metadata": {},
   "source": [
    "## Multiply and Add Number"
   ]
  },
  {
   "cell_type": "code",
   "execution_count": 6,
   "id": "a4afdbd7",
   "metadata": {},
   "outputs": [
    {
     "data": {
      "text/plain": [
       "22"
      ]
     },
     "execution_count": 6,
     "metadata": {},
     "output_type": "execute_result"
    }
   ],
   "source": [
    "(3*6)+4"
   ]
  },
  {
   "cell_type": "code",
   "execution_count": 7,
   "id": "ccc6c6e6",
   "metadata": {},
   "outputs": [
    {
     "data": {
      "text/plain": [
       "82"
      ]
     },
     "execution_count": 7,
     "metadata": {},
     "output_type": "execute_result"
    }
   ],
   "source": [
    "(8*9)+10"
   ]
  },
  {
   "cell_type": "code",
   "execution_count": 8,
   "id": "f2a51a2f",
   "metadata": {},
   "outputs": [
    {
     "data": {
      "text/plain": [
       "25.0"
      ]
     },
     "execution_count": 8,
     "metadata": {},
     "output_type": "execute_result"
    }
   ],
   "source": [
    "(9/3)*6 + 7"
   ]
  },
  {
   "cell_type": "markdown",
   "id": "bd2d6640",
   "metadata": {},
   "source": [
    "## Minutes into Hours "
   ]
  },
  {
   "cell_type": "code",
   "execution_count": 9,
   "id": "8d2e0dd2",
   "metadata": {},
   "outputs": [
    {
     "name": "stdout",
     "output_type": "stream",
     "text": [
      "200: 60 \n"
     ]
    }
   ],
   "source": [
    "minutes = float(input(\"2000: \"))"
   ]
  },
  {
   "cell_type": "code",
   "execution_count": 13,
   "id": "ce270888",
   "metadata": {},
   "outputs": [],
   "source": [
    "hours = 2000 / 60"
   ]
  },
  {
   "cell_type": "code",
   "execution_count": 14,
   "id": "2b3810e1",
   "metadata": {},
   "outputs": [
    {
     "data": {
      "text/plain": [
       "33.333333333333336"
      ]
     },
     "execution_count": 14,
     "metadata": {},
     "output_type": "execute_result"
    }
   ],
   "source": [
    "2000/60 "
   ]
  },
  {
   "cell_type": "code",
   "execution_count": 15,
   "id": "69753912",
   "metadata": {},
   "outputs": [
    {
     "name": "stdout",
     "output_type": "stream",
     "text": [
      "2000 minutes is equal to 33.3 hours\n"
     ]
    }
   ],
   "source": [
    "print(f\"{2000} minutes is equal to {33.3} hours\")"
   ]
  },
  {
   "cell_type": "markdown",
   "id": "1570d982",
   "metadata": {},
   "source": [
    "## Objectives "
   ]
  },
  {
   "cell_type": "markdown",
   "id": "5825f01c",
   "metadata": {},
   "source": [
    "### Data Science Libraries \n",
    "### Arithmatic Functions \n",
    "### Data science tools "
   ]
  },
  {
   "cell_type": "code",
   "execution_count": 1,
   "id": "426e4d8d",
   "metadata": {},
   "outputs": [
    {
     "ename": "ModuleNotFoundError",
     "evalue": "No module named 'pandas'",
     "output_type": "error",
     "traceback": [
      "\u001b[1;31m---------------------------------------------------------------------------\u001b[0m",
      "\u001b[1;31mModuleNotFoundError\u001b[0m                       Traceback (most recent call last)",
      "\u001b[1;32m~\\AppData\\Local\\Temp\\ipykernel_22604\\4080736814.py\u001b[0m in \u001b[0;36m<module>\u001b[1;34m\u001b[0m\n\u001b[1;32m----> 1\u001b[1;33m \u001b[1;32mimport\u001b[0m \u001b[0mpandas\u001b[0m \u001b[1;32mas\u001b[0m \u001b[0mpd\u001b[0m\u001b[1;33m\u001b[0m\u001b[1;33m\u001b[0m\u001b[0m\n\u001b[0m",
      "\u001b[1;31mModuleNotFoundError\u001b[0m: No module named 'pandas'"
     ]
    }
   ],
   "source": [
    "import pandas as pd"
   ]
  },
  {
   "cell_type": "markdown",
   "id": "276d97f7",
   "metadata": {},
   "source": [
    "## AnushkaShukla "
   ]
  },
  {
   "cell_type": "code",
   "execution_count": null,
   "id": "23d00018",
   "metadata": {},
   "outputs": [],
   "source": []
  }
 ],
 "metadata": {
  "kernelspec": {
   "display_name": "Python 3 (ipykernel)",
   "language": "python",
   "name": "python3"
  },
  "language_info": {
   "codemirror_mode": {
    "name": "ipython",
    "version": 3
   },
   "file_extension": ".py",
   "mimetype": "text/x-python",
   "name": "python",
   "nbconvert_exporter": "python",
   "pygments_lexer": "ipython3",
   "version": "3.7.1"
  }
 },
 "nbformat": 4,
 "nbformat_minor": 5
}
